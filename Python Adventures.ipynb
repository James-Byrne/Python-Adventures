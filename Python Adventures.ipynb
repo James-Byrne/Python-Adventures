{
 "cells": [
  {
   "cell_type": "code",
   "execution_count": null,
   "metadata": {
    "scrolled": true
   },
   "outputs": [
    {
     "name": "stdout",
     "output_type": "stream",
     "text": [
      "Requirement already satisfied: textblob in /usr/local/lib/python3.6/site-packages\n",
      "Requirement already satisfied: nltk>=3.1 in /usr/local/lib/python3.6/site-packages (from textblob)\n",
      "Requirement already satisfied: six in /usr/local/lib/python3.6/site-packages (from nltk>=3.1->textblob)\n",
      "\u001b[33mYou are using pip version 9.0.1, however version 10.0.0 is available.\n",
      "You should consider upgrading via the 'pip install --upgrade pip' command.\u001b[0m\n",
      "Requirement already satisfied: matplotlib in /usr/local/lib/python3.6/site-packages\n",
      "Requirement already satisfied: cycler>=0.10 in /usr/local/lib/python3.6/site-packages (from matplotlib)\n",
      "Requirement already satisfied: python-dateutil>=2.1 in /usr/local/lib/python3.6/site-packages (from matplotlib)\n",
      "Requirement already satisfied: pytz in /usr/local/lib/python3.6/site-packages (from matplotlib)\n",
      "Requirement already satisfied: kiwisolver>=1.0.1 in /usr/local/lib/python3.6/site-packages (from matplotlib)\n",
      "Requirement already satisfied: numpy>=1.7.1 in /usr/local/lib/python3.6/site-packages (from matplotlib)\n",
      "Requirement already satisfied: pyparsing!=2.0.4,!=2.1.2,!=2.1.6,>=2.0.1 in /usr/local/lib/python3.6/site-packages (from matplotlib)\n",
      "Requirement already satisfied: six>=1.10 in /usr/local/lib/python3.6/site-packages (from matplotlib)\n",
      "Requirement already satisfied: setuptools in /usr/local/lib/python3.6/site-packages (from kiwisolver>=1.0.1->matplotlib)\n",
      "\u001b[33mYou are using pip version 9.0.1, however version 10.0.0 is available.\n",
      "You should consider upgrading via the 'pip install --upgrade pip' command.\u001b[0m\n"
     ]
    }
   ],
   "source": [
    "# Install the dependencies that we need\n",
    "import sys\n",
    "!{sys.executable} -m pip install textblob\n",
    "!{sys.executable} -m pip install matplotlib\n",
    "\n",
    "from sanitize import get_file, load_data, sanitize_data\n",
    "from translation import count_perfect_translations_for_language\n",
    "\n",
    "# Libraries for drawing the chart\n",
    "import numpy as np\n",
    "from matplotlib import pyplot \n",
    "%matplotlib inline\n",
    "\n",
    "# Get the file we want to read\n",
    "file = get_file()\n",
    "\n",
    "# Sanitize the data in the file\n",
    "data = sanitize_data(load_data(file))\n",
    "\n",
    "# Define a list of all languages\n",
    "languages = ['de','ga','fr','ru','es','zh-TW','ig','it']\n",
    "\n",
    "# Get a list with the number of erfect translations\n",
    "counts = [count_perfect_translations_for_language(data, x, 'en') for x in languages]\n",
    "\n",
    "# Draw the plot (spooky magic)\n",
    "pyplot.bar(np.arange(len(languages)), counts)"
   ]
  },
  {
   "cell_type": "code",
   "execution_count": null,
   "metadata": {
    "scrolled": true
   },
   "outputs": [],
   "source": [
    "l = [1,2,3]\n",
    "r = list(map(lambda x: x, l))\n",
    "print([True for x in r])\n",
    "print([True for x in r])\n",
    "map(print, r)"
   ]
  },
  {
   "cell_type": "code",
   "execution_count": null,
   "metadata": {},
   "outputs": [],
   "source": []
  }
 ],
 "metadata": {
  "kernelspec": {
   "display_name": "Python 3",
   "language": "python",
   "name": "python3"
  },
  "language_info": {
   "codemirror_mode": {
    "name": "ipython",
    "version": 3
   },
   "file_extension": ".py",
   "mimetype": "text/x-python",
   "name": "python",
   "nbconvert_exporter": "python",
   "pygments_lexer": "ipython3",
   "version": "3.6.4"
  }
 },
 "nbformat": 4,
 "nbformat_minor": 2
}
